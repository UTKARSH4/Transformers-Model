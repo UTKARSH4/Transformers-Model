{
  "nbformat": 4,
  "nbformat_minor": 0,
  "metadata": {
    "colab": {
      "name": "Transformers.ipynb",
      "provenance": [],
      "authorship_tag": "ABX9TyON7+uzLpZ4LV/0xunB/FbD",
      "include_colab_link": true
    },
    "kernelspec": {
      "name": "python3",
      "display_name": "Python 3"
    },
    "language_info": {
      "name": "python"
    }
  },
  "cells": [
    {
      "cell_type": "markdown",
      "metadata": {
        "id": "view-in-github",
        "colab_type": "text"
      },
      "source": [
        "<a href=\"https://colab.research.google.com/github/UTKARSH4/Transformers-Model/blob/main/Transformers.ipynb\" target=\"_parent\"><img src=\"https://colab.research.google.com/assets/colab-badge.svg\" alt=\"Open In Colab\"/></a>"
      ]
    },
    {
      "cell_type": "code",
      "metadata": {
        "id": "wY8Olq7nhVYQ"
      },
      "source": [
        "def getangles(pos,i,dmodel):\n",
        "  return pos/np.power(1000,2*(i//2)/np.float32(dmodel))\n"
      ],
      "execution_count": null,
      "outputs": []
    },
    {
      "cell_type": "code",
      "metadata": {
        "id": "db2aotlejiED"
      },
      "source": [
        "def positionalencoding(pos,dmodel):\n",
        "  angles = getangles(np.arange(pos)[:,np.newaxis],np.arange(dmodel)[np.newaxis:,],dmodel)\n",
        "  value[0::2]=np.sin(angles[:,0::2])\n",
        "  value[1::2]=np.cos(angles[:,1::2])\n",
        "  value=value[np.newaxis,...]\n",
        "\n",
        "  return tf.cast(value, dtype=tf.float32)\n",
        "\n"
      ],
      "execution_count": null,
      "outputs": []
    },
    {
      "cell_type": "code",
      "metadata": {
        "id": "3ABDP0uck7gl"
      },
      "source": [
        "def masking():\n",
        "  \n",
        "\n",
        "\n",
        "\n",
        "\n",
        "\n",
        "\n"
      ],
      "execution_count": 2,
      "outputs": []
    },
    {
      "cell_type": "code",
      "metadata": {
        "id": "oeXPS3oct7mA"
      },
      "source": [
        "def scaleddotproductattention(K,Q,V,mask=None):\n",
        "\n",
        "  dotproduct = np.matmul(K,Q)\n",
        "  dk = tf.cast(K.shape[-1],dtype=tf.float32)\n",
        "  scaledweights = dotproduct/np.math.sqrt(dk)\n",
        "\n",
        "  if mask is not None :\n",
        "    scaledweights += (mask * -1e9)\n",
        "  weights=tf.nn.softmax(scaledweights,axis=-1)\n",
        "  output=np.matlmul(weights,V)\n",
        "\n",
        "    return weights,output\n"
      ],
      "execution_count": null,
      "outputs": []
    },
    {
      "cell_type": "code",
      "metadata": {
        "id": "yBQRFE0k3Dju"
      },
      "source": [
        "class MultiHeadAttention(tf.keras.layers.Layer):\n",
        "\n",
        "  def __init__(self, d_model, num_heads):\n",
        "\n",
        "    Super(MultiHeadAttention, self).__init__()\n",
        "    self.d_model = d_model\n",
        "    self.num_heads = num_heads\n",
        "    self.K = tf.keras.layer.Dense(d_model)\n",
        "    self.Q = tf.keras.layer.Dense(d_model)\n",
        "    self.V = tf.keras.layer.Dense(d_model)\n",
        "    self.output = tf.keras.layer.Dense(d_model)\n",
        "\n",
        "    def split_heads(self, x, batch_size):\n",
        "      x = tf.reshape(x, (batch_size, -1, self.num_heads, self.depth))\n",
        "    return tf.transpose(x, perm=[0, 2, 1, 3])\n",
        "\n",
        "    def call(self,k,q,v,mask):\n",
        "      \n",
        "      batch_size = tf.shape(q)[0]\n",
        "      k = self.K(k)\n",
        "      q = self.Q(q)\n",
        "      v = self.V(v)\n",
        "\n",
        "    k = self.split_heads(q, batch_size)  \n",
        "    q = self.split_heads(k, batch_size)  \n",
        "    v = self.split_heads(v, batch_size)\n",
        "\n",
        "    weights,output = scaleddotproductattention(k,q,v,mask)\n",
        "\n",
        "    scaled_attention = tf.transpose(output, perm=[0, 2, 1, 3])\n",
        "    concate_attention =  tf.reshape(scaled_attention,(batch_size,-1,d_model)\n",
        "\n",
        "    output = self.dense(concate_attention)\n",
        "\n",
        "    return output, attention_weights\n"
      ],
      "execution_count": null,
      "outputs": []
    },
    {
      "cell_type": "code",
      "metadata": {
        "id": "9K5eCn8r6KUH"
      },
      "source": [
        ""
      ],
      "execution_count": null,
      "outputs": []
    }
  ]
}